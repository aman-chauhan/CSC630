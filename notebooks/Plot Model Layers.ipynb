{
    "cells": [{
            "cell_type": "markdown",
            "metadata": {},
            "source": [
                "# Plot Model Shapes"
            ]
        },
        {
            "cell_type": "markdown",
            "metadata": {},
            "source": [
                "## Import Libraries"
            ]
        },
        {
            "cell_type": "code",
            "execution_count": null,
            "metadata": {},
            "outputs": [],
            "source": [
                "from keras.applications.inception_resnet_v2 import InceptionResNetV2\n",
                "from keras.applications.inception_v3 import InceptionV3\n",
                "from keras.applications.resnet50 import ResNet50\n",
                "from keras.utils import plot_model\n",
                "from keras.models import Model, load_model"
            ]
        },
        {
            "cell_type": "markdown",
            "metadata": {},
            "source": [
                "## Global ImageNet models"
            ]
        },
        {
            "cell_type": "code",
            "execution_count": null,
            "metadata": {},
            "outputs": [],
            "source": [
                "inceptresnetV2 = InceptionResNetV2(weights='imagenet', include_top=False, input_shape=(256, 256, 3))\n",
                "inceptionV3 = InceptionV3(weights='imagenet', include_top=False, input_shape=(256, 256, 3))\n",
                "resnet50 = ResNet50(weights='imagenet', include_top=False, input_shape=(256, 256, 3))"
            ]
        },
        {
            "cell_type": "markdown",
            "metadata": {},
            "source": [
                "## ResNet50 Model"
            ]
        },
        {
            "cell_type": "code",
            "execution_count": null,
            "metadata": {},
            "outputs": [],
            "source": [
                "def resnet50_model(resnet_layers):\n",
                "    i = 0\n",
                "    layer_map = {1: 'add_1', 2: 'add_2', 3: 'add_3'}\n",
                "    while (True):\n",
                "        if resnet50.layers[i].name == layer_map[resnet_layers]:\n",
                "            break\n",
                "        i += 1\n",
                "    model = Model(inputs=resnet50.layers[0].input,\n",
                "                  outputs=resnet50.layers[i].output, name='resnet_layers')\n",
                "    for layer in model.layers:\n",
                "        layer.trainable = False\n",
                "    model.compile('adadelta', 'mse')\n",
                "    return model"
            ]
        },
        {
            "cell_type": "markdown",
            "metadata": {},
            "source": [
                "## InceptionResNet V2 Model"
            ]
        },
        {
            "cell_type": "code",
            "execution_count": null,
            "metadata": {},
            "outputs": [],
            "source": [
                "def inceptresnetV2_model(resnet_layers):\n",
                "    i = 0\n",
                "    while (True):\n",
                "        if inceptresnetV2.layers[i].name == 'block35_{}_ac'.format(resnet_layers):\n",
                "            break\n",
                "        i += 1\n",
                "    model = Model(inputs=inceptresnetV2.layers[0].input,\n",
                "                  outputs=inceptresnetV2.layers[i].output, name='inceptresnet_layers')\n",
                "    for layer in model.layers:\n",
                "        layer.trainable = False\n",
                "    model.compile('adadelta', 'mse')\n",
                "    return model"
            ]
        },
        {
            "cell_type": "markdown",
            "metadata": {},
            "source": [
                "## Inception V3 Model"
            ]
        },
        {
            "cell_type": "code",
            "execution_count": null,
            "metadata": {},
            "outputs": [],
            "source": [
                "def inceptionV3_model(inception_layers):\n",
                "    i = 0\n",
                "    while (True):\n",
                "        if inceptionV3.layers[i].name == 'mixed{}'.format(inception_layers - 1):\n",
                "            break\n",
                "        i += 1\n",
                "    model = Model(inputs=inceptionV3.layers[0].input, outputs=inceptionV3.layers[i].output, name='inception_layers')\n",
                "    for layer in model.layers:\n",
                "        layer.trainable = False\n",
                "    model.compile('adadelta', 'mse')\n",
                "    return model"
            ]
        },
        {
            "cell_type": "markdown",
            "metadata": {},
            "source": [
                "## ImageNet Models with 3 layers in each"
            ]
        },
        {
            "cell_type": "code",
            "execution_count": null,
            "metadata": {},
            "outputs": [],
            "source": [
                "irv2 = inceptresnetV2_model(3)\n",
                "iv3 = inceptionV3_model(3)\n",
                "r50 = resnet50_model(3)"
            ]
        },
        {
            "cell_type": "markdown",
            "metadata": {},
            "source": [
                "## Plotting ImageNet models"
            ]
        },
        {
            "cell_type": "code",
            "execution_count": null,
            "metadata": {},
            "outputs": [],
            "source": [
                "plot_model(irv2, to_file='irv2.png', show_shapes=True, show_layer_names=True)\n",
                "plot_model(iv3, to_file='iv3.png', show_shapes=True, show_layer_names=True)\n",
                "plot_model(r50, to_file='r50.png', show_shapes=True, show_layer_names=True)"
            ]
        },
        {
            "cell_type": "markdown",
            "metadata": {},
            "source": [
                "## Load the AutoEncoder"
            ]
        },
        {
            "cell_type": "code",
            "execution_count": null,
            "metadata": {},
            "outputs": [],
            "source": [
                "ae = load_model('../models/train_resnet_50_normal_full.h5')"
            ]
        },
        {
            "cell_type": "markdown",
            "metadata": {},
            "source": [
                "## Plot the AutoEncoder Model"
            ]
        },
        {
            "cell_type": "code",
            "execution_count": null,
            "metadata": {},
            "outputs": [],
            "source": [
                "plot_model(ae, to_file='ae_keras.png', show_shapes=True, show_layer_names=True)\n",
                "plot_model(ae.layers[1], to_file='e_keras.png', show_shapes=True, show_layer_names=True)\n",
                "plot_model(ae.layers[2], to_file='bn_keras.png', show_shapes=True, show_layer_names=True)\n",
                "plot_model(ae.layers[3], to_file='d_keras.png', show_shapes=True, show_layer_names=True)"
            ]
        },
        {
            "cell_type": "markdown",
            "metadata": {},
            "source": [
                "## Load the Classification Model"
            ]
        },
        {
            "cell_type": "code",
            "execution_count": null,
            "metadata": {},
            "outputs": [],
            "source": [
                "clf = load_model('../models/clf_normal_xfull_192_0.2.h5')"
            ]
        },
        {
            "cell_type": "markdown",
            "metadata": {},
            "source": [
                "## Plot the Classification Model"
            ]
        },
        {
            "cell_type": "code",
            "execution_count": null,
            "metadata": {},
            "outputs": [],
            "source": [
                "plot_model(clf, to_file='clf_keras.png', show_shapes=True, show_layer_names=True)"
            ]
        }
    ],
    "metadata": {
        "kernelspec": {
            "display_name": "Python 3",
            "language": "python",
            "name": "python3"
        },
        "language_info": {
            "codemirror_mode": {
                "name": "ipython",
                "version": 3
            },
            "file_extension": ".py",
            "mimetype": "text/x-python",
            "name": "python",
            "nbconvert_exporter": "python",
            "pygments_lexer": "ipython3",
            "version": "3.6.6"
        }
    },
    "nbformat": 4,
    "nbformat_minor": 2
}
